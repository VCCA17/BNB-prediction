{
 "cells": [
  {
   "cell_type": "markdown",
   "metadata": {},
   "source": [
    "# Cryptocurrency price prediction with LSTM\n",
    "\n",
    "## In this project, I will use a Long-short term memory neural network to create predictions of the Binance coin (BNB) price according to the previous days' behavior"
   ]
  },
  {
   "cell_type": "code",
   "execution_count": 1,
   "metadata": {},
   "outputs": [],
   "source": [
    "#First, let's import the necessary libraries\n",
    "import numpy as np\n",
    "import matplotlib.pyplot as plt\n",
    "import pandas as pd\n",
    "%matplotlib inline\n",
    "\n",
    "from tensorflow.keras.models import Sequential\n",
    "\n",
    "from tensorflow.keras.layers import Dense, LSTM, Dropout"
   ]
  },
  {
   "cell_type": "code",
   "execution_count": 2,
   "metadata": {},
   "outputs": [],
   "source": [
    "#The dataset was obtained from Kaggle's dataset\n",
    "dataset=pd.read_csv('coin_BinanceCoin.csv')"
   ]
  },
  {
   "cell_type": "code",
   "execution_count": 3,
   "metadata": {},
   "outputs": [
    {
     "data": {
      "text/html": [
       "<div>\n",
       "<style scoped>\n",
       "    .dataframe tbody tr th:only-of-type {\n",
       "        vertical-align: middle;\n",
       "    }\n",
       "\n",
       "    .dataframe tbody tr th {\n",
       "        vertical-align: top;\n",
       "    }\n",
       "\n",
       "    .dataframe thead th {\n",
       "        text-align: right;\n",
       "    }\n",
       "</style>\n",
       "<table border=\"1\" class=\"dataframe\">\n",
       "  <thead>\n",
       "    <tr style=\"text-align: right;\">\n",
       "      <th></th>\n",
       "      <th>SNo</th>\n",
       "      <th>Name</th>\n",
       "      <th>Symbol</th>\n",
       "      <th>Date</th>\n",
       "      <th>High</th>\n",
       "      <th>Low</th>\n",
       "      <th>Open</th>\n",
       "      <th>Close</th>\n",
       "      <th>Volume</th>\n",
       "      <th>Marketcap</th>\n",
       "    </tr>\n",
       "  </thead>\n",
       "  <tbody>\n",
       "    <tr>\n",
       "      <th>0</th>\n",
       "      <td>1</td>\n",
       "      <td>Binance Coin</td>\n",
       "      <td>BNB</td>\n",
       "      <td>2017-07-26 23:59:59</td>\n",
       "      <td>0.109013</td>\n",
       "      <td>0.099266</td>\n",
       "      <td>0.105893</td>\n",
       "      <td>0.105138</td>\n",
       "      <td>200395.0</td>\n",
       "      <td>10513800.0</td>\n",
       "    </tr>\n",
       "    <tr>\n",
       "      <th>1</th>\n",
       "      <td>2</td>\n",
       "      <td>Binance Coin</td>\n",
       "      <td>BNB</td>\n",
       "      <td>2017-07-27 23:59:59</td>\n",
       "      <td>0.108479</td>\n",
       "      <td>0.100888</td>\n",
       "      <td>0.105108</td>\n",
       "      <td>0.107737</td>\n",
       "      <td>344499.0</td>\n",
       "      <td>10773700.0</td>\n",
       "    </tr>\n",
       "    <tr>\n",
       "      <th>2</th>\n",
       "      <td>3</td>\n",
       "      <td>Binance Coin</td>\n",
       "      <td>BNB</td>\n",
       "      <td>2017-07-28 23:59:59</td>\n",
       "      <td>0.109019</td>\n",
       "      <td>0.101473</td>\n",
       "      <td>0.107632</td>\n",
       "      <td>0.104067</td>\n",
       "      <td>342568.0</td>\n",
       "      <td>10406700.0</td>\n",
       "    </tr>\n",
       "    <tr>\n",
       "      <th>3</th>\n",
       "      <td>4</td>\n",
       "      <td>Binance Coin</td>\n",
       "      <td>BNB</td>\n",
       "      <td>2017-07-29 23:59:59</td>\n",
       "      <td>0.111264</td>\n",
       "      <td>0.101108</td>\n",
       "      <td>0.104782</td>\n",
       "      <td>0.107811</td>\n",
       "      <td>340218.0</td>\n",
       "      <td>10781100.0</td>\n",
       "    </tr>\n",
       "    <tr>\n",
       "      <th>4</th>\n",
       "      <td>5</td>\n",
       "      <td>Binance Coin</td>\n",
       "      <td>BNB</td>\n",
       "      <td>2017-07-30 23:59:59</td>\n",
       "      <td>0.108138</td>\n",
       "      <td>0.103162</td>\n",
       "      <td>0.107935</td>\n",
       "      <td>0.106414</td>\n",
       "      <td>224261.0</td>\n",
       "      <td>10641400.0</td>\n",
       "    </tr>\n",
       "  </tbody>\n",
       "</table>\n",
       "</div>"
      ],
      "text/plain": [
       "   SNo          Name Symbol                 Date      High       Low  \\\n",
       "0    1  Binance Coin    BNB  2017-07-26 23:59:59  0.109013  0.099266   \n",
       "1    2  Binance Coin    BNB  2017-07-27 23:59:59  0.108479  0.100888   \n",
       "2    3  Binance Coin    BNB  2017-07-28 23:59:59  0.109019  0.101473   \n",
       "3    4  Binance Coin    BNB  2017-07-29 23:59:59  0.111264  0.101108   \n",
       "4    5  Binance Coin    BNB  2017-07-30 23:59:59  0.108138  0.103162   \n",
       "\n",
       "       Open     Close    Volume   Marketcap  \n",
       "0  0.105893  0.105138  200395.0  10513800.0  \n",
       "1  0.105108  0.107737  344499.0  10773700.0  \n",
       "2  0.107632  0.104067  342568.0  10406700.0  \n",
       "3  0.104782  0.107811  340218.0  10781100.0  \n",
       "4  0.107935  0.106414  224261.0  10641400.0  "
      ]
     },
     "execution_count": 3,
     "metadata": {},
     "output_type": "execute_result"
    }
   ],
   "source": [
    "dataset.head()"
   ]
  },
  {
   "cell_type": "code",
   "execution_count": 4,
   "metadata": {},
   "outputs": [],
   "source": [
    "#Let's use a significant part as training for our network, 1050 days out of 1312, of closing prices.\n",
    "train_set=dataset.iloc[:1050, 7:8].values\n",
    "test_set=dataset.iloc[1050:, 7:8].values\n",
    "\n",
    "#Since our data varies a lot, let's scale it first\n",
    "from sklearn.preprocessing import MinMaxScaler\n",
    "sc = MinMaxScaler(feature_range=(0,1))\n",
    "train_set_scaled = sc.fit_transform(train_set)\n",
    "\n",
    "x_train = []\n",
    "y_train = []\n",
    "\n",
    "#The 'shift' is how many days I want to predict based on (train_len) previous days\n",
    "shift=5\n",
    "train_len=60"
   ]
  },
  {
   "cell_type": "code",
   "execution_count": 18,
   "metadata": {},
   "outputs": [
    {
     "data": {
      "text/plain": [
       "263"
      ]
     },
     "execution_count": 18,
     "metadata": {},
     "output_type": "execute_result"
    }
   ],
   "source": [
    "len(test_set)"
   ]
  },
  {
   "cell_type": "code",
   "execution_count": 5,
   "metadata": {},
   "outputs": [],
   "source": [
    "#Create a matrix with periods of 60 (train_len) days that would imply the next 5 (shift)\n",
    "for i in range(train_len,1050-shift):\n",
    "    x_train.append(train_set_scaled[i-train_len:i,0])\n",
    "    y_train.append(train_set_scaled[i:i+shift,0])"
   ]
  },
  {
   "cell_type": "code",
   "execution_count": 6,
   "metadata": {},
   "outputs": [],
   "source": [
    "#To convert them as numpy.arrays in order to use them in the LSTM\n",
    "x_train, y_train = np.array(x_train), np.array(y_train)"
   ]
  },
  {
   "cell_type": "code",
   "execution_count": 7,
   "metadata": {},
   "outputs": [],
   "source": [
    "#The training set of LSTM must have this kind of shape\n",
    "x_train = np.reshape(x_train, (x_train.shape[0], x_train.shape[1], 1))"
   ]
  },
  {
   "cell_type": "code",
   "execution_count": 8,
   "metadata": {},
   "outputs": [
    {
     "name": "stdout",
     "output_type": "stream",
     "text": [
      "Train on 985 samples\n",
      "Epoch 1/20\n",
      "985/985 [==============================] - 5s 5ms/sample - loss: 0.0306\n",
      "Epoch 2/20\n",
      "985/985 [==============================] - 2s 2ms/sample - loss: 0.0039\n",
      "Epoch 3/20\n",
      "985/985 [==============================] - 2s 2ms/sample - loss: 0.0037\n",
      "Epoch 4/20\n",
      "985/985 [==============================] - 2s 2ms/sample - loss: 0.0033\n",
      "Epoch 5/20\n",
      "985/985 [==============================] - 2s 2ms/sample - loss: 0.0032\n",
      "Epoch 6/20\n",
      "985/985 [==============================] - 2s 2ms/sample - loss: 0.0031\n",
      "Epoch 7/20\n",
      "985/985 [==============================] - 2s 2ms/sample - loss: 0.0029\n",
      "Epoch 8/20\n",
      "985/985 [==============================] - 2s 2ms/sample - loss: 0.0029\n",
      "Epoch 9/20\n",
      "985/985 [==============================] - 2s 2ms/sample - loss: 0.0028\n",
      "Epoch 10/20\n",
      "985/985 [==============================] - 2s 3ms/sample - loss: 0.0026\n",
      "Epoch 11/20\n",
      "985/985 [==============================] - 3s 3ms/sample - loss: 0.0026\n",
      "Epoch 12/20\n",
      "985/985 [==============================] - 3s 3ms/sample - loss: 0.0025\n",
      "Epoch 13/20\n",
      "985/985 [==============================] - 3s 3ms/sample - loss: 0.0025\n",
      "Epoch 14/20\n",
      "985/985 [==============================] - 3s 3ms/sample - loss: 0.0027\n",
      "Epoch 15/20\n",
      "985/985 [==============================] - 3s 3ms/sample - loss: 0.0024\n",
      "Epoch 16/20\n",
      "985/985 [==============================] - 3s 3ms/sample - loss: 0.0024\n",
      "Epoch 17/20\n",
      "985/985 [==============================] - 3s 3ms/sample - loss: 0.0024\n",
      "Epoch 18/20\n",
      "985/985 [==============================] - 3s 3ms/sample - loss: 0.0024\n",
      "Epoch 19/20\n",
      "985/985 [==============================] - 3s 3ms/sample - loss: 0.0023\n",
      "Epoch 20/20\n",
      "985/985 [==============================] - 3s 3ms/sample - loss: 0.0022\n"
     ]
    },
    {
     "data": {
      "text/plain": [
       "<tensorflow.python.keras.callbacks.History at 0x239f5df36c8>"
      ]
     },
     "execution_count": 8,
     "metadata": {},
     "output_type": "execute_result"
    }
   ],
   "source": [
    "modelo = Sequential()\n",
    "modelo.add(LSTM(units=128, input_shape=(x_train.shape[1], 1)))\n",
    "modelo.add(Dense(shift, name=\"output_layer\"))\n",
    "modelo.compile(optimizer='adam', loss = 'mean_squared_error')\n",
    "modelo.fit(x_train, y_train, batch_size = 32, epochs=20)"
   ]
  },
  {
   "cell_type": "code",
   "execution_count": 11,
   "metadata": {},
   "outputs": [
    {
     "data": {
      "text/plain": [
       "263"
      ]
     },
     "execution_count": 11,
     "metadata": {},
     "output_type": "execute_result"
    }
   ],
   "source": [
    "#Out of the complete closing price column, we extract the untrained ones\n",
    "total_set=dataset.iloc[:, 7:8].values\n",
    "inputs = total_set[1050:]\n",
    "inputs = sc.transform(inputs)\n",
    "len(inputs)"
   ]
  },
  {
   "cell_type": "code",
   "execution_count": 19,
   "metadata": {},
   "outputs": [],
   "source": [
    "#Since we have 263 days to use our network, we may choose some intervals of 60 days to see predictions\n",
    "interv=50\n",
    "x_test = []\n",
    "x_test.append(inputs[interv:interv+train_len,0])\n",
    "x_test = np.array(x_test)\n",
    "x_test = np.reshape(x_test, (x_test.shape[0], x_test.shape[1], 1))\n",
    "p_set = modelo.predict(x_test)\n",
    "p_set = sc.inverse_transform(p_set)\n",
    "p_set=np.reshape(p_set, (shift,))\n",
    "x_p=list(np.arange(interv+train_len,interv+train_len+shift))"
   ]
  },
  {
   "cell_type": "code",
   "execution_count": 20,
   "metadata": {},
   "outputs": [],
   "source": [
    "interv2=120\n",
    "x_test2 = []\n",
    "x_test2.append(inputs[interv2:interv2+train_len,0])\n",
    "x_test2 = np.array(x_test2)\n",
    "x_test2 = np.reshape(x_test2, (x_test2.shape[0], x_test2.shape[1], 1))\n",
    "p_set2 = modelo.predict(x_test2)\n",
    "p_set2 = sc.inverse_transform(p_set2)\n",
    "p_set2=np.reshape(p_set2, (shift,))\n",
    "x_p2=list(np.arange(interv2+train_len,interv2+train_len+shift))"
   ]
  },
  {
   "cell_type": "code",
   "execution_count": 21,
   "metadata": {},
   "outputs": [],
   "source": [
    "interv3=180\n",
    "x_test3 = []\n",
    "x_test3.append(inputs[interv3:interv3+train_len,0])\n",
    "x_test3 = np.array(x_test3)\n",
    "x_test3 = np.reshape(x_test3, (x_test3.shape[0], x_test3.shape[1], 1))\n",
    "p_set3 = modelo.predict(x_test3)\n",
    "p_set3 = sc.inverse_transform(p_set3)\n",
    "p_set3=np.reshape(p_set3, (shift,))\n",
    "x_p3=list(np.arange(interv3+train_len,interv3+train_len+shift))"
   ]
  },
  {
   "cell_type": "code",
   "execution_count": 27,
   "metadata": {},
   "outputs": [],
   "source": [
    "interv4=200\n",
    "x_test4 = []\n",
    "x_test4.append(inputs[interv4:interv4+train_len,0])\n",
    "x_test4 = np.array(x_test4)\n",
    "x_test4 = np.reshape(x_test4, (x_test4.shape[0], x_test4.shape[1], 1))\n",
    "p_set4 = modelo.predict(x_test4)\n",
    "p_set4 = sc.inverse_transform(p_set4)\n",
    "p_set4=np.reshape(p_set4, (shift,))\n",
    "x_p4=list(np.arange(interv4+train_len,interv4+train_len+shift))"
   ]
  },
  {
   "cell_type": "code",
   "execution_count": 28,
   "metadata": {},
   "outputs": [
    {
     "data": {
      "image/png": "[encoded data removed]",
      "text/plain": [
       "<Figure size 1152x576 with 1 Axes>"
      ]
     },
     "metadata": {
      "needs_background": "light"
     },
     "output_type": "display_data"
    }
   ],
   "source": [
    "#Let's see the results\n",
    "plt.figure(figsize=(16,8))\n",
    "plt.plot(test_set, color = 'red', label = 'Real BNB price')\n",
    "plt.plot(x_p,p_set, color = 'blue', label = 'Predicted BNB price')\n",
    "plt.plot(x_p2,p_set2, color = 'blue')\n",
    "plt.plot(x_p3,p_set3, color = 'blue')\n",
    "plt.plot(x_p4,p_set4, color = 'blue')\n",
    "#plt.xlim(1, 90)\n",
    "plt.title('BNB price prediction')\n",
    "plt.xlabel('Days')\n",
    "plt.ylabel('Closing price')\n",
    "plt.legend()\n",
    "plt.show()"
   ]
  },
  {
   "cell_type": "code",
   "execution_count": null,
   "metadata": {},
   "outputs": [],
   "source": [
    "#This network, for now, cannot respond fast enough to the fast variations of the last spikes,\n",
    "#that are extremelly anomalous compared to the flat region where the net work was trained (and actually is preety good)"
   ]
  }
 ],
 "metadata": {
  "kernelspec": {
   "display_name": "Python 3",
   "language": "python",
   "name": "python3"
  },
  "language_info": {
   "codemirror_mode": {
    "name": "ipython",
    "version": 3
   },
   "file_extension": ".py",
   "mimetype": "text/x-python",
   "name": "python",
   "nbconvert_exporter": "python",
   "pygments_lexer": "ipython3",
   "version": "3.7.5"
  }
 },
 "nbformat": 4,
 "nbformat_minor": 2
}
